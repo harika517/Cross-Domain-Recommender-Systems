{
 "cells": [
  {
   "cell_type": "markdown",
   "metadata": {},
   "source": [
    "# Integrating all the Goodreads Datasets for 4 genres"
   ]
  },
  {
   "cell_type": "markdown",
   "metadata": {},
   "source": [
    "In this section we are integration all the datasets that preprocessed for genres Comic, Thriller, Horror, Romance"
   ]
  },
  {
   "cell_type": "code",
   "execution_count": 1,
   "metadata": {},
   "outputs": [],
   "source": [
    "import pandas as pd"
   ]
  },
  {
   "cell_type": "code",
   "execution_count": 2,
   "metadata": {},
   "outputs": [],
   "source": [
    "#Uploading data files\n",
    "df_comic = pd.read_csv('comic_final.csv')\n",
    "df_romance = pd.read_csv('horror_final.csv')\n",
    "df_horror = pd.read_csv('romance_final.csv')\n",
    "df_thriller = pd.read_csv('thriller_final.csv')"
   ]
  },
  {
   "cell_type": "code",
   "execution_count": 3,
   "metadata": {},
   "outputs": [],
   "source": [
    "#changing the column name Genre to genre\n",
    "df_romance.rename(columns = {'Genre':'genre'}, inplace = True)\n",
    "df_horror.rename(columns = {'Genre':'genre'}, inplace = True)\n",
    "df_thriller.rename(columns = {'Genre':'genre'}, inplace = True)"
   ]
  },
  {
   "cell_type": "code",
   "execution_count": 5,
   "metadata": {},
   "outputs": [
    {
     "data": {
      "text/plain": [
       "Index(['Unnamed: 0', 'book_id', 'average_rating', 'description', 'title',\n",
       "       'language_code', 'genre', 'user_id', 'rating', 'review_text'],\n",
       "      dtype='object')"
      ]
     },
     "execution_count": 5,
     "metadata": {},
     "output_type": "execute_result"
    }
   ],
   "source": [
    "#verifying the columns of all datasets if they are equal before integration\n",
    "df_comic.columns"
   ]
  },
  {
   "cell_type": "code",
   "execution_count": 6,
   "metadata": {},
   "outputs": [
    {
     "data": {
      "text/plain": [
       "Index(['Unnamed: 0', 'book_id', 'average_rating', 'description', 'title',\n",
       "       'language_code', 'genre', 'user_id', 'rating', 'review_text'],\n",
       "      dtype='object')"
      ]
     },
     "execution_count": 6,
     "metadata": {},
     "output_type": "execute_result"
    }
   ],
   "source": [
    "df_romance.columns"
   ]
  },
  {
   "cell_type": "code",
   "execution_count": 7,
   "metadata": {},
   "outputs": [
    {
     "data": {
      "text/plain": [
       "Index(['Unnamed: 0', 'book_id', 'average_rating', 'description', 'title',\n",
       "       'language_code', 'genre', 'user_id', 'rating', 'review_text'],\n",
       "      dtype='object')"
      ]
     },
     "execution_count": 7,
     "metadata": {},
     "output_type": "execute_result"
    }
   ],
   "source": [
    "df_horror.columns"
   ]
  },
  {
   "cell_type": "code",
   "execution_count": 8,
   "metadata": {},
   "outputs": [
    {
     "data": {
      "text/plain": [
       "Index(['Unnamed: 0', 'book_id', 'average_rating', 'description', 'title',\n",
       "       'language_code', 'genre', 'user_id', 'rating', 'review_text'],\n",
       "      dtype='object')"
      ]
     },
     "execution_count": 8,
     "metadata": {},
     "output_type": "execute_result"
    }
   ],
   "source": [
    "df_thriller.columns"
   ]
  },
  {
   "cell_type": "code",
   "execution_count": 10,
   "metadata": {},
   "outputs": [
    {
     "data": {
      "text/plain": [
       "(7567357, 10)"
      ]
     },
     "execution_count": 10,
     "metadata": {},
     "output_type": "execute_result"
    }
   ],
   "source": [
    "#Data integration\n",
    "df_integrated = df_comic.append([df_romance, df_horror, df_thriller])\n",
    "df_integrated.shape"
   ]
  },
  {
   "cell_type": "code",
   "execution_count": 11,
   "metadata": {},
   "outputs": [
    {
     "data": {
      "text/html": [
       "<div>\n",
       "<style scoped>\n",
       "    .dataframe tbody tr th:only-of-type {\n",
       "        vertical-align: middle;\n",
       "    }\n",
       "\n",
       "    .dataframe tbody tr th {\n",
       "        vertical-align: top;\n",
       "    }\n",
       "\n",
       "    .dataframe thead th {\n",
       "        text-align: right;\n",
       "    }\n",
       "</style>\n",
       "<table border=\"1\" class=\"dataframe\">\n",
       "  <thead>\n",
       "    <tr style=\"text-align: right;\">\n",
       "      <th></th>\n",
       "      <th>Unnamed: 0</th>\n",
       "      <th>book_id</th>\n",
       "      <th>average_rating</th>\n",
       "      <th>description</th>\n",
       "      <th>title</th>\n",
       "      <th>language_code</th>\n",
       "      <th>genre</th>\n",
       "      <th>user_id</th>\n",
       "      <th>rating</th>\n",
       "      <th>review_text</th>\n",
       "    </tr>\n",
       "  </thead>\n",
       "  <tbody>\n",
       "    <tr>\n",
       "      <th>0</th>\n",
       "      <td>0</td>\n",
       "      <td>13571772</td>\n",
       "      <td>4.28</td>\n",
       "      <td>The questions plaguing Captain America's dream...</td>\n",
       "      <td>Captain America: Winter Soldier (The Ultimate ...</td>\n",
       "      <td>eng</td>\n",
       "      <td>comics</td>\n",
       "      <td>568ce0dddc00192a814476ab5441acbb</td>\n",
       "      <td>3</td>\n",
       "      <td>It's an o.k. story. Much better than some othe...</td>\n",
       "    </tr>\n",
       "    <tr>\n",
       "      <th>1</th>\n",
       "      <td>1</td>\n",
       "      <td>13571772</td>\n",
       "      <td>4.28</td>\n",
       "      <td>The questions plaguing Captain America's dream...</td>\n",
       "      <td>Captain America: Winter Soldier (The Ultimate ...</td>\n",
       "      <td>eng</td>\n",
       "      <td>comics</td>\n",
       "      <td>ae681bb05174eaa3d2124d51262b76ad</td>\n",
       "      <td>3</td>\n",
       "      <td>A Captain America story involving a Russian as...</td>\n",
       "    </tr>\n",
       "    <tr>\n",
       "      <th>2</th>\n",
       "      <td>2</td>\n",
       "      <td>13571772</td>\n",
       "      <td>4.28</td>\n",
       "      <td>The questions plaguing Captain America's dream...</td>\n",
       "      <td>Captain America: Winter Soldier (The Ultimate ...</td>\n",
       "      <td>eng</td>\n",
       "      <td>comics</td>\n",
       "      <td>396fe0f07a53ad6be40e232c28a35e18</td>\n",
       "      <td>4</td>\n",
       "      <td>I read this in order to prepare myself for the...</td>\n",
       "    </tr>\n",
       "    <tr>\n",
       "      <th>3</th>\n",
       "      <td>3</td>\n",
       "      <td>35452242</td>\n",
       "      <td>4.05</td>\n",
       "      <td>The fight for Jason Delgado's life and soul be...</td>\n",
       "      <td>Bounty Hunter 4/3: My Life in Combat from Mari...</td>\n",
       "      <td>eng</td>\n",
       "      <td>comics</td>\n",
       "      <td>1c0124b7ccfd549911ad5c8741d95765</td>\n",
       "      <td>5</td>\n",
       "      <td>Bounty Hunter 4\\3 is a in- depth personal stor...</td>\n",
       "    </tr>\n",
       "    <tr>\n",
       "      <th>4</th>\n",
       "      <td>4</td>\n",
       "      <td>707611</td>\n",
       "      <td>4.06</td>\n",
       "      <td>These are the stories that catapulted Superman...</td>\n",
       "      <td>Superman Archives, Vol. 2</td>\n",
       "      <td>en-US</td>\n",
       "      <td>comics</td>\n",
       "      <td>79423049f862e94f1022f736a3c22cc1</td>\n",
       "      <td>3</td>\n",
       "      <td>action 80</td>\n",
       "    </tr>\n",
       "  </tbody>\n",
       "</table>\n",
       "</div>"
      ],
      "text/plain": [
       "   Unnamed: 0   book_id  average_rating  \\\n",
       "0           0  13571772            4.28   \n",
       "1           1  13571772            4.28   \n",
       "2           2  13571772            4.28   \n",
       "3           3  35452242            4.05   \n",
       "4           4    707611            4.06   \n",
       "\n",
       "                                         description  \\\n",
       "0  The questions plaguing Captain America's dream...   \n",
       "1  The questions plaguing Captain America's dream...   \n",
       "2  The questions plaguing Captain America's dream...   \n",
       "3  The fight for Jason Delgado's life and soul be...   \n",
       "4  These are the stories that catapulted Superman...   \n",
       "\n",
       "                                               title language_code   genre  \\\n",
       "0  Captain America: Winter Soldier (The Ultimate ...           eng  comics   \n",
       "1  Captain America: Winter Soldier (The Ultimate ...           eng  comics   \n",
       "2  Captain America: Winter Soldier (The Ultimate ...           eng  comics   \n",
       "3  Bounty Hunter 4/3: My Life in Combat from Mari...           eng  comics   \n",
       "4                          Superman Archives, Vol. 2         en-US  comics   \n",
       "\n",
       "                            user_id  rating  \\\n",
       "0  568ce0dddc00192a814476ab5441acbb       3   \n",
       "1  ae681bb05174eaa3d2124d51262b76ad       3   \n",
       "2  396fe0f07a53ad6be40e232c28a35e18       4   \n",
       "3  1c0124b7ccfd549911ad5c8741d95765       5   \n",
       "4  79423049f862e94f1022f736a3c22cc1       3   \n",
       "\n",
       "                                         review_text  \n",
       "0  It's an o.k. story. Much better than some othe...  \n",
       "1  A Captain America story involving a Russian as...  \n",
       "2  I read this in order to prepare myself for the...  \n",
       "3  Bounty Hunter 4\\3 is a in- depth personal stor...  \n",
       "4                                          action 80  "
      ]
     },
     "execution_count": 11,
     "metadata": {},
     "output_type": "execute_result"
    }
   ],
   "source": [
    "df_integrated.head()"
   ]
  },
  {
   "cell_type": "code",
   "execution_count": 12,
   "metadata": {},
   "outputs": [
    {
     "data": {
      "text/html": [
       "<div>\n",
       "<style scoped>\n",
       "    .dataframe tbody tr th:only-of-type {\n",
       "        vertical-align: middle;\n",
       "    }\n",
       "\n",
       "    .dataframe tbody tr th {\n",
       "        vertical-align: top;\n",
       "    }\n",
       "\n",
       "    .dataframe thead th {\n",
       "        text-align: right;\n",
       "    }\n",
       "</style>\n",
       "<table border=\"1\" class=\"dataframe\">\n",
       "  <thead>\n",
       "    <tr style=\"text-align: right;\">\n",
       "      <th></th>\n",
       "      <th>Unnamed: 0</th>\n",
       "      <th>book_id</th>\n",
       "      <th>average_rating</th>\n",
       "      <th>description</th>\n",
       "      <th>title</th>\n",
       "      <th>language_code</th>\n",
       "      <th>genre</th>\n",
       "      <th>user_id</th>\n",
       "      <th>rating</th>\n",
       "      <th>review_text</th>\n",
       "    </tr>\n",
       "  </thead>\n",
       "  <tbody>\n",
       "    <tr>\n",
       "      <th>1394258</th>\n",
       "      <td>1394258</td>\n",
       "      <td>25727303</td>\n",
       "      <td>4.11</td>\n",
       "      <td>Accompanied by Holmes and Watson, Mrs. Hudson ...</td>\n",
       "      <td>Mrs. Hudson in New York</td>\n",
       "      <td>eng</td>\n",
       "      <td>Thriller</td>\n",
       "      <td>79db8510ba14b9273f80b1572efc1513</td>\n",
       "      <td>3</td>\n",
       "      <td>I am a First Reads lucky winner of Mrs. Hudson...</td>\n",
       "    </tr>\n",
       "    <tr>\n",
       "      <th>1394259</th>\n",
       "      <td>1394259</td>\n",
       "      <td>23252156</td>\n",
       "      <td>4.00</td>\n",
       "      <td>When Kirk Stanford moves into his new home, st...</td>\n",
       "      <td>Wicked Reflection</td>\n",
       "      <td>eng</td>\n",
       "      <td>Thriller</td>\n",
       "      <td>a867ee71f6203414f68ff7a1c734aa8c</td>\n",
       "      <td>4</td>\n",
       "      <td>Why you should read it: Hank has a way with hi...</td>\n",
       "    </tr>\n",
       "    <tr>\n",
       "      <th>1394260</th>\n",
       "      <td>1394260</td>\n",
       "      <td>23252156</td>\n",
       "      <td>4.00</td>\n",
       "      <td>When Kirk Stanford moves into his new home, st...</td>\n",
       "      <td>Wicked Reflection</td>\n",
       "      <td>eng</td>\n",
       "      <td>Thriller</td>\n",
       "      <td>554b023fc79ceb3e8ab6da29e0e7f5b5</td>\n",
       "      <td>4</td>\n",
       "      <td>Kirk Stanford is a very happy new home owner. ...</td>\n",
       "    </tr>\n",
       "    <tr>\n",
       "      <th>1394261</th>\n",
       "      <td>1394261</td>\n",
       "      <td>23252156</td>\n",
       "      <td>4.00</td>\n",
       "      <td>When Kirk Stanford moves into his new home, st...</td>\n",
       "      <td>Wicked Reflection</td>\n",
       "      <td>eng</td>\n",
       "      <td>Thriller</td>\n",
       "      <td>5a74c90525af7dd783517c94025ffb17</td>\n",
       "      <td>5</td>\n",
       "      <td>Reviewed for Rainbow Gold Reviews. A copy was ...</td>\n",
       "    </tr>\n",
       "    <tr>\n",
       "      <th>1394262</th>\n",
       "      <td>1394262</td>\n",
       "      <td>26168430</td>\n",
       "      <td>3.50</td>\n",
       "      <td>Sir Arthur Conan Doyle is brought back to life...</td>\n",
       "      <td>Sherlock Holmes and the July Crisis</td>\n",
       "      <td>eng</td>\n",
       "      <td>Thriller</td>\n",
       "      <td>d9bffa4411a494bd5d0104673cf49ac6</td>\n",
       "      <td>3</td>\n",
       "      <td>I must start this review by saying that I won ...</td>\n",
       "    </tr>\n",
       "  </tbody>\n",
       "</table>\n",
       "</div>"
      ],
      "text/plain": [
       "         Unnamed: 0   book_id  average_rating  \\\n",
       "1394258     1394258  25727303            4.11   \n",
       "1394259     1394259  23252156            4.00   \n",
       "1394260     1394260  23252156            4.00   \n",
       "1394261     1394261  23252156            4.00   \n",
       "1394262     1394262  26168430            3.50   \n",
       "\n",
       "                                               description  \\\n",
       "1394258  Accompanied by Holmes and Watson, Mrs. Hudson ...   \n",
       "1394259  When Kirk Stanford moves into his new home, st...   \n",
       "1394260  When Kirk Stanford moves into his new home, st...   \n",
       "1394261  When Kirk Stanford moves into his new home, st...   \n",
       "1394262  Sir Arthur Conan Doyle is brought back to life...   \n",
       "\n",
       "                                       title language_code     genre  \\\n",
       "1394258              Mrs. Hudson in New York           eng  Thriller   \n",
       "1394259                    Wicked Reflection           eng  Thriller   \n",
       "1394260                    Wicked Reflection           eng  Thriller   \n",
       "1394261                    Wicked Reflection           eng  Thriller   \n",
       "1394262  Sherlock Holmes and the July Crisis           eng  Thriller   \n",
       "\n",
       "                                  user_id  rating  \\\n",
       "1394258  79db8510ba14b9273f80b1572efc1513       3   \n",
       "1394259  a867ee71f6203414f68ff7a1c734aa8c       4   \n",
       "1394260  554b023fc79ceb3e8ab6da29e0e7f5b5       4   \n",
       "1394261  5a74c90525af7dd783517c94025ffb17       5   \n",
       "1394262  d9bffa4411a494bd5d0104673cf49ac6       3   \n",
       "\n",
       "                                               review_text  \n",
       "1394258  I am a First Reads lucky winner of Mrs. Hudson...  \n",
       "1394259  Why you should read it: Hank has a way with hi...  \n",
       "1394260  Kirk Stanford is a very happy new home owner. ...  \n",
       "1394261  Reviewed for Rainbow Gold Reviews. A copy was ...  \n",
       "1394262  I must start this review by saying that I won ...  "
      ]
     },
     "execution_count": 12,
     "metadata": {},
     "output_type": "execute_result"
    }
   ],
   "source": [
    "#Checking the index values\n",
    "df_integrated.tail()"
   ]
  },
  {
   "cell_type": "code",
   "execution_count": 14,
   "metadata": {},
   "outputs": [],
   "source": [
    "#resetting index\n",
    "df_integrated.reset_index(inplace=True)"
   ]
  },
  {
   "cell_type": "code",
   "execution_count": 16,
   "metadata": {},
   "outputs": [
    {
     "data": {
      "text/html": [
       "<div>\n",
       "<style scoped>\n",
       "    .dataframe tbody tr th:only-of-type {\n",
       "        vertical-align: middle;\n",
       "    }\n",
       "\n",
       "    .dataframe tbody tr th {\n",
       "        vertical-align: top;\n",
       "    }\n",
       "\n",
       "    .dataframe thead th {\n",
       "        text-align: right;\n",
       "    }\n",
       "</style>\n",
       "<table border=\"1\" class=\"dataframe\">\n",
       "  <thead>\n",
       "    <tr style=\"text-align: right;\">\n",
       "      <th></th>\n",
       "      <th>index</th>\n",
       "      <th>Unnamed: 0</th>\n",
       "      <th>book_id</th>\n",
       "      <th>average_rating</th>\n",
       "      <th>description</th>\n",
       "      <th>title</th>\n",
       "      <th>language_code</th>\n",
       "      <th>genre</th>\n",
       "      <th>user_id</th>\n",
       "      <th>rating</th>\n",
       "      <th>review_text</th>\n",
       "    </tr>\n",
       "  </thead>\n",
       "  <tbody>\n",
       "    <tr>\n",
       "      <th>7567352</th>\n",
       "      <td>1394258</td>\n",
       "      <td>1394258</td>\n",
       "      <td>25727303</td>\n",
       "      <td>4.11</td>\n",
       "      <td>Accompanied by Holmes and Watson, Mrs. Hudson ...</td>\n",
       "      <td>Mrs. Hudson in New York</td>\n",
       "      <td>eng</td>\n",
       "      <td>Thriller</td>\n",
       "      <td>79db8510ba14b9273f80b1572efc1513</td>\n",
       "      <td>3</td>\n",
       "      <td>I am a First Reads lucky winner of Mrs. Hudson...</td>\n",
       "    </tr>\n",
       "    <tr>\n",
       "      <th>7567353</th>\n",
       "      <td>1394259</td>\n",
       "      <td>1394259</td>\n",
       "      <td>23252156</td>\n",
       "      <td>4.00</td>\n",
       "      <td>When Kirk Stanford moves into his new home, st...</td>\n",
       "      <td>Wicked Reflection</td>\n",
       "      <td>eng</td>\n",
       "      <td>Thriller</td>\n",
       "      <td>a867ee71f6203414f68ff7a1c734aa8c</td>\n",
       "      <td>4</td>\n",
       "      <td>Why you should read it: Hank has a way with hi...</td>\n",
       "    </tr>\n",
       "    <tr>\n",
       "      <th>7567354</th>\n",
       "      <td>1394260</td>\n",
       "      <td>1394260</td>\n",
       "      <td>23252156</td>\n",
       "      <td>4.00</td>\n",
       "      <td>When Kirk Stanford moves into his new home, st...</td>\n",
       "      <td>Wicked Reflection</td>\n",
       "      <td>eng</td>\n",
       "      <td>Thriller</td>\n",
       "      <td>554b023fc79ceb3e8ab6da29e0e7f5b5</td>\n",
       "      <td>4</td>\n",
       "      <td>Kirk Stanford is a very happy new home owner. ...</td>\n",
       "    </tr>\n",
       "    <tr>\n",
       "      <th>7567355</th>\n",
       "      <td>1394261</td>\n",
       "      <td>1394261</td>\n",
       "      <td>23252156</td>\n",
       "      <td>4.00</td>\n",
       "      <td>When Kirk Stanford moves into his new home, st...</td>\n",
       "      <td>Wicked Reflection</td>\n",
       "      <td>eng</td>\n",
       "      <td>Thriller</td>\n",
       "      <td>5a74c90525af7dd783517c94025ffb17</td>\n",
       "      <td>5</td>\n",
       "      <td>Reviewed for Rainbow Gold Reviews. A copy was ...</td>\n",
       "    </tr>\n",
       "    <tr>\n",
       "      <th>7567356</th>\n",
       "      <td>1394262</td>\n",
       "      <td>1394262</td>\n",
       "      <td>26168430</td>\n",
       "      <td>3.50</td>\n",
       "      <td>Sir Arthur Conan Doyle is brought back to life...</td>\n",
       "      <td>Sherlock Holmes and the July Crisis</td>\n",
       "      <td>eng</td>\n",
       "      <td>Thriller</td>\n",
       "      <td>d9bffa4411a494bd5d0104673cf49ac6</td>\n",
       "      <td>3</td>\n",
       "      <td>I must start this review by saying that I won ...</td>\n",
       "    </tr>\n",
       "  </tbody>\n",
       "</table>\n",
       "</div>"
      ],
      "text/plain": [
       "           index  Unnamed: 0   book_id  average_rating  \\\n",
       "7567352  1394258     1394258  25727303            4.11   \n",
       "7567353  1394259     1394259  23252156            4.00   \n",
       "7567354  1394260     1394260  23252156            4.00   \n",
       "7567355  1394261     1394261  23252156            4.00   \n",
       "7567356  1394262     1394262  26168430            3.50   \n",
       "\n",
       "                                               description  \\\n",
       "7567352  Accompanied by Holmes and Watson, Mrs. Hudson ...   \n",
       "7567353  When Kirk Stanford moves into his new home, st...   \n",
       "7567354  When Kirk Stanford moves into his new home, st...   \n",
       "7567355  When Kirk Stanford moves into his new home, st...   \n",
       "7567356  Sir Arthur Conan Doyle is brought back to life...   \n",
       "\n",
       "                                       title language_code     genre  \\\n",
       "7567352              Mrs. Hudson in New York           eng  Thriller   \n",
       "7567353                    Wicked Reflection           eng  Thriller   \n",
       "7567354                    Wicked Reflection           eng  Thriller   \n",
       "7567355                    Wicked Reflection           eng  Thriller   \n",
       "7567356  Sherlock Holmes and the July Crisis           eng  Thriller   \n",
       "\n",
       "                                  user_id  rating  \\\n",
       "7567352  79db8510ba14b9273f80b1572efc1513       3   \n",
       "7567353  a867ee71f6203414f68ff7a1c734aa8c       4   \n",
       "7567354  554b023fc79ceb3e8ab6da29e0e7f5b5       4   \n",
       "7567355  5a74c90525af7dd783517c94025ffb17       5   \n",
       "7567356  d9bffa4411a494bd5d0104673cf49ac6       3   \n",
       "\n",
       "                                               review_text  \n",
       "7567352  I am a First Reads lucky winner of Mrs. Hudson...  \n",
       "7567353  Why you should read it: Hank has a way with hi...  \n",
       "7567354  Kirk Stanford is a very happy new home owner. ...  \n",
       "7567355  Reviewed for Rainbow Gold Reviews. A copy was ...  \n",
       "7567356  I must start this review by saying that I won ...  "
      ]
     },
     "execution_count": 16,
     "metadata": {},
     "output_type": "execute_result"
    }
   ],
   "source": [
    "df_integrated.tail()"
   ]
  },
  {
   "cell_type": "code",
   "execution_count": 17,
   "metadata": {},
   "outputs": [],
   "source": [
    "#removing index column\n",
    "del df_integrated['index']"
   ]
  },
  {
   "cell_type": "code",
   "execution_count": 18,
   "metadata": {},
   "outputs": [],
   "source": [
    "df_integrated.to_csv ('integrated_data.csv', index = None)"
   ]
  },
  {
   "cell_type": "markdown",
   "metadata": {},
   "source": [
    "**Recommendation based on the average ratings**\n",
    "\n",
    "This addresses cold start problem for a new user. For the new user we can directly recommend books of high average rating."
   ]
  },
  {
   "cell_type": "code",
   "execution_count": 19,
   "metadata": {},
   "outputs": [
    {
     "data": {
      "text/html": [
       "<div>\n",
       "<style scoped>\n",
       "    .dataframe tbody tr th:only-of-type {\n",
       "        vertical-align: middle;\n",
       "    }\n",
       "\n",
       "    .dataframe tbody tr th {\n",
       "        vertical-align: top;\n",
       "    }\n",
       "\n",
       "    .dataframe thead th {\n",
       "        text-align: right;\n",
       "    }\n",
       "</style>\n",
       "<table border=\"1\" class=\"dataframe\">\n",
       "  <thead>\n",
       "    <tr style=\"text-align: right;\">\n",
       "      <th></th>\n",
       "      <th>title</th>\n",
       "      <th>average_rating</th>\n",
       "    </tr>\n",
       "  </thead>\n",
       "  <tbody>\n",
       "    <tr>\n",
       "      <th>3088144</th>\n",
       "      <td>Tale of a Thief</td>\n",
       "      <td>5.0</td>\n",
       "    </tr>\n",
       "    <tr>\n",
       "      <th>2731685</th>\n",
       "      <td>Gondell's Quest</td>\n",
       "      <td>5.0</td>\n",
       "    </tr>\n",
       "    <tr>\n",
       "      <th>3205868</th>\n",
       "      <td>The Wisdom (The Wisdom, #2)</td>\n",
       "      <td>5.0</td>\n",
       "    </tr>\n",
       "    <tr>\n",
       "      <th>6735259</th>\n",
       "      <td>The Mystery of the Golden Button (The Maid Det...</td>\n",
       "      <td>5.0</td>\n",
       "    </tr>\n",
       "    <tr>\n",
       "      <th>3205869</th>\n",
       "      <td>The Wisdom (The Wisdom, #2)</td>\n",
       "      <td>5.0</td>\n",
       "    </tr>\n",
       "  </tbody>\n",
       "</table>\n",
       "</div>"
      ],
      "text/plain": [
       "                                                     title  average_rating\n",
       "3088144                                    Tale of a Thief             5.0\n",
       "2731685                                    Gondell's Quest             5.0\n",
       "3205868                        The Wisdom (The Wisdom, #2)             5.0\n",
       "6735259  The Mystery of the Golden Button (The Maid Det...             5.0\n",
       "3205869                        The Wisdom (The Wisdom, #2)             5.0"
      ]
     },
     "execution_count": 19,
     "metadata": {},
     "output_type": "execute_result"
    }
   ],
   "source": [
    "avg_rating = df_integrated[['title', 'average_rating']]\n",
    "sorted_overall = avg_rating.sort_values(by=['average_rating'], ascending=False)\n",
    "\n",
    "sorted_overall.head()"
   ]
  },
  {
   "cell_type": "code",
   "execution_count": 20,
   "metadata": {},
   "outputs": [],
   "source": [
    "sorted_overall.head(25).to_csv(\"top_overall.csv\")"
   ]
  },
  {
   "cell_type": "code",
   "execution_count": null,
   "metadata": {},
   "outputs": [],
   "source": []
  },
  {
   "cell_type": "code",
   "execution_count": null,
   "metadata": {},
   "outputs": [],
   "source": []
  },
  {
   "cell_type": "code",
   "execution_count": null,
   "metadata": {},
   "outputs": [],
   "source": []
  }
 ],
 "metadata": {
  "kernelspec": {
   "display_name": "Python 3",
   "language": "python",
   "name": "python3"
  },
  "language_info": {
   "codemirror_mode": {
    "name": "ipython",
    "version": 3
   },
   "file_extension": ".py",
   "mimetype": "text/x-python",
   "name": "python",
   "nbconvert_exporter": "python",
   "pygments_lexer": "ipython3",
   "version": "3.7.0"
  }
 },
 "nbformat": 4,
 "nbformat_minor": 2
}
