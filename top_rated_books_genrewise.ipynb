{
 "cells": [
  {
   "cell_type": "code",
   "execution_count": 1,
   "metadata": {},
   "outputs": [],
   "source": [
    "import pandas as pd"
   ]
  },
  {
   "cell_type": "markdown",
   "metadata": {},
   "source": [
    "**Recommendation based on the average ratings**\n",
    "\n",
    "This addresses cold start problem for a new user. \n",
    "\n",
    "For the new user we can directly recommend books of high average rating. Creating a .csv file of top rated based on each genre and also the overall rating."
   ]
  },
  {
   "cell_type": "code",
   "execution_count": 2,
   "metadata": {},
   "outputs": [],
   "source": [
    "# Reading all the files into the dataframe\n",
    "df_integrated = pd.read_csv('integrated_data.csv')\n",
    "df_comic = pd.read_csv('comic_final.csv')\n",
    "df_horror = pd.read_csv('horror_final.csv')\n",
    "df_romance = pd.read_csv('romance_final.csv')\n",
    "df_thriller = pd.read_csv('thriller_final.csv')"
   ]
  },
  {
   "cell_type": "code",
   "execution_count": 3,
   "metadata": {},
   "outputs": [],
   "source": [
    "# We require these two columns to recommend the top rated books\n",
    "required_columns = ['title', 'average_rating']"
   ]
  },
  {
   "cell_type": "code",
   "execution_count": 4,
   "metadata": {},
   "outputs": [
    {
     "data": {
      "text/html": [
       "<div>\n",
       "<style scoped>\n",
       "    .dataframe tbody tr th:only-of-type {\n",
       "        vertical-align: middle;\n",
       "    }\n",
       "\n",
       "    .dataframe tbody tr th {\n",
       "        vertical-align: top;\n",
       "    }\n",
       "\n",
       "    .dataframe thead th {\n",
       "        text-align: right;\n",
       "    }\n",
       "</style>\n",
       "<table border=\"1\" class=\"dataframe\">\n",
       "  <thead>\n",
       "    <tr style=\"text-align: right;\">\n",
       "      <th></th>\n",
       "      <th>title</th>\n",
       "      <th>average_rating</th>\n",
       "    </tr>\n",
       "  </thead>\n",
       "  <tbody>\n",
       "    <tr>\n",
       "      <th>146756</th>\n",
       "      <td>Wrong again, God boy (Jesus and Mo, #7)</td>\n",
       "      <td>5.0</td>\n",
       "    </tr>\n",
       "    <tr>\n",
       "      <th>377958</th>\n",
       "      <td>Kolchak The Night Stalker: The Forgotten Lore ...</td>\n",
       "      <td>5.0</td>\n",
       "    </tr>\n",
       "    <tr>\n",
       "      <th>308243</th>\n",
       "      <td>End's Shadow Caste (Volume One)</td>\n",
       "      <td>5.0</td>\n",
       "    </tr>\n",
       "    <tr>\n",
       "      <th>240980</th>\n",
       "      <td>Young Sunny</td>\n",
       "      <td>5.0</td>\n",
       "    </tr>\n",
       "    <tr>\n",
       "      <th>306939</th>\n",
       "      <td>The Astonishing X-Men #15-16</td>\n",
       "      <td>5.0</td>\n",
       "    </tr>\n",
       "  </tbody>\n",
       "</table>\n",
       "</div>"
      ],
      "text/plain": [
       "                                                    title  average_rating\n",
       "146756            Wrong again, God boy (Jesus and Mo, #7)             5.0\n",
       "377958  Kolchak The Night Stalker: The Forgotten Lore ...             5.0\n",
       "308243                    End's Shadow Caste (Volume One)             5.0\n",
       "240980                                        Young Sunny             5.0\n",
       "306939                       The Astonishing X-Men #15-16             5.0"
      ]
     },
     "execution_count": 4,
     "metadata": {},
     "output_type": "execute_result"
    }
   ],
   "source": [
    "avg_rating_comic = df_comic[required_columns]\n",
    "# Sorting in descending order gives the top rated books in each genre\n",
    "sorted_comic = avg_rating_comic.sort_values(by=['average_rating'], ascending=False)\n",
    "sorted_comic.head()"
   ]
  },
  {
   "cell_type": "code",
   "execution_count": 5,
   "metadata": {},
   "outputs": [],
   "source": [
    "# Converting the top 20 comic books to csv\n",
    "sorted_comic.head(20).to_csv(\"top_comic.csv\")"
   ]
  },
  {
   "cell_type": "code",
   "execution_count": 6,
   "metadata": {},
   "outputs": [
    {
     "data": {
      "text/html": [
       "<div>\n",
       "<style scoped>\n",
       "    .dataframe tbody tr th:only-of-type {\n",
       "        vertical-align: middle;\n",
       "    }\n",
       "\n",
       "    .dataframe tbody tr th {\n",
       "        vertical-align: top;\n",
       "    }\n",
       "\n",
       "    .dataframe thead th {\n",
       "        text-align: right;\n",
       "    }\n",
       "</style>\n",
       "<table border=\"1\" class=\"dataframe\">\n",
       "  <thead>\n",
       "    <tr style=\"text-align: right;\">\n",
       "      <th></th>\n",
       "      <th>title</th>\n",
       "      <th>average_rating</th>\n",
       "    </tr>\n",
       "  </thead>\n",
       "  <tbody>\n",
       "    <tr>\n",
       "      <th>447235</th>\n",
       "      <td>The White Room (The Wishing Place/The White Ro...</td>\n",
       "      <td>5.0</td>\n",
       "    </tr>\n",
       "    <tr>\n",
       "      <th>1133554</th>\n",
       "      <td>Dragon's Fall: Rise of the Scarlet Order</td>\n",
       "      <td>5.0</td>\n",
       "    </tr>\n",
       "    <tr>\n",
       "      <th>2351398</th>\n",
       "      <td>Summer Bite: A Macconwood Pack Novella</td>\n",
       "      <td>5.0</td>\n",
       "    </tr>\n",
       "    <tr>\n",
       "      <th>2108934</th>\n",
       "      <td>The Kingdom of Copper (The Daevabad Trilogy, #2)</td>\n",
       "      <td>5.0</td>\n",
       "    </tr>\n",
       "    <tr>\n",
       "      <th>2108935</th>\n",
       "      <td>The Kingdom of Copper (The Daevabad Trilogy, #2)</td>\n",
       "      <td>5.0</td>\n",
       "    </tr>\n",
       "  </tbody>\n",
       "</table>\n",
       "</div>"
      ],
      "text/plain": [
       "                                                     title  average_rating\n",
       "447235   The White Room (The Wishing Place/The White Ro...             5.0\n",
       "1133554           Dragon's Fall: Rise of the Scarlet Order             5.0\n",
       "2351398             Summer Bite: A Macconwood Pack Novella             5.0\n",
       "2108934   The Kingdom of Copper (The Daevabad Trilogy, #2)             5.0\n",
       "2108935   The Kingdom of Copper (The Daevabad Trilogy, #2)             5.0"
      ]
     },
     "execution_count": 6,
     "metadata": {},
     "output_type": "execute_result"
    }
   ],
   "source": [
    "# Sorting the horror genre books based on the average rating\n",
    "avg_rating_horror = df_horror[required_columns]\n",
    "sorted_horror = avg_rating_horror.sort_values(by=['average_rating'], ascending=False)\n",
    "sorted_horror.head()"
   ]
  },
  {
   "cell_type": "code",
   "execution_count": 7,
   "metadata": {},
   "outputs": [],
   "source": [
    "sorted_horror.head(20).to_csv(\"top_horror.csv\")"
   ]
  },
  {
   "cell_type": "code",
   "execution_count": 8,
   "metadata": {},
   "outputs": [
    {
     "data": {
      "text/html": [
       "<div>\n",
       "<style scoped>\n",
       "    .dataframe tbody tr th:only-of-type {\n",
       "        vertical-align: middle;\n",
       "    }\n",
       "\n",
       "    .dataframe tbody tr th {\n",
       "        vertical-align: top;\n",
       "    }\n",
       "\n",
       "    .dataframe thead th {\n",
       "        text-align: right;\n",
       "    }\n",
       "</style>\n",
       "<table border=\"1\" class=\"dataframe\">\n",
       "  <thead>\n",
       "    <tr style=\"text-align: right;\">\n",
       "      <th></th>\n",
       "      <th>title</th>\n",
       "      <th>average_rating</th>\n",
       "    </tr>\n",
       "  </thead>\n",
       "  <tbody>\n",
       "    <tr>\n",
       "      <th>2489156</th>\n",
       "      <td>Heart of the Fae</td>\n",
       "      <td>5.0</td>\n",
       "    </tr>\n",
       "    <tr>\n",
       "      <th>1430213</th>\n",
       "      <td>Honey Glazed (The Continental Breakfast Club, ...</td>\n",
       "      <td>5.0</td>\n",
       "    </tr>\n",
       "    <tr>\n",
       "      <th>2650644</th>\n",
       "      <td>Will Santa Deliver?</td>\n",
       "      <td>5.0</td>\n",
       "    </tr>\n",
       "    <tr>\n",
       "      <th>2405135</th>\n",
       "      <td>No Luck At All (Weston Family Series, #3)</td>\n",
       "      <td>5.0</td>\n",
       "    </tr>\n",
       "    <tr>\n",
       "      <th>64856</th>\n",
       "      <td>Shallow</td>\n",
       "      <td>5.0</td>\n",
       "    </tr>\n",
       "  </tbody>\n",
       "</table>\n",
       "</div>"
      ],
      "text/plain": [
       "                                                     title  average_rating\n",
       "2489156                                   Heart of the Fae             5.0\n",
       "1430213  Honey Glazed (The Continental Breakfast Club, ...             5.0\n",
       "2650644                                Will Santa Deliver?             5.0\n",
       "2405135          No Luck At All (Weston Family Series, #3)             5.0\n",
       "64856                                              Shallow             5.0"
      ]
     },
     "execution_count": 8,
     "metadata": {},
     "output_type": "execute_result"
    }
   ],
   "source": [
    "avg_rating_romance = df_romance[required_columns]\n",
    "sorted_romance = avg_rating_romance.sort_values(by=['average_rating'], ascending=False)\n",
    "sorted_romance.head()"
   ]
  },
  {
   "cell_type": "code",
   "execution_count": 9,
   "metadata": {},
   "outputs": [],
   "source": [
    "sorted_romance.head(20).to_csv(\"top_romance.csv\")"
   ]
  },
  {
   "cell_type": "code",
   "execution_count": 10,
   "metadata": {},
   "outputs": [
    {
     "data": {
      "text/html": [
       "<div>\n",
       "<style scoped>\n",
       "    .dataframe tbody tr th:only-of-type {\n",
       "        vertical-align: middle;\n",
       "    }\n",
       "\n",
       "    .dataframe tbody tr th {\n",
       "        vertical-align: top;\n",
       "    }\n",
       "\n",
       "    .dataframe thead th {\n",
       "        text-align: right;\n",
       "    }\n",
       "</style>\n",
       "<table border=\"1\" class=\"dataframe\">\n",
       "  <thead>\n",
       "    <tr style=\"text-align: right;\">\n",
       "      <th></th>\n",
       "      <th>title</th>\n",
       "      <th>average_rating</th>\n",
       "    </tr>\n",
       "  </thead>\n",
       "  <tbody>\n",
       "    <tr>\n",
       "      <th>656724</th>\n",
       "      <td>The Love-Murders of Harry F. Powers</td>\n",
       "      <td>5.0</td>\n",
       "    </tr>\n",
       "    <tr>\n",
       "      <th>1218026</th>\n",
       "      <td>Blood Red Homicide (Pepper Bibeau Mysteries, #5)</td>\n",
       "      <td>5.0</td>\n",
       "    </tr>\n",
       "    <tr>\n",
       "      <th>439348</th>\n",
       "      <td>REMAINS TO BE SEEN</td>\n",
       "      <td>5.0</td>\n",
       "    </tr>\n",
       "    <tr>\n",
       "      <th>652611</th>\n",
       "      <td>Porter's Rule: Masters of the City</td>\n",
       "      <td>5.0</td>\n",
       "    </tr>\n",
       "    <tr>\n",
       "      <th>602779</th>\n",
       "      <td>Favourite Son</td>\n",
       "      <td>5.0</td>\n",
       "    </tr>\n",
       "  </tbody>\n",
       "</table>\n",
       "</div>"
      ],
      "text/plain": [
       "                                                    title  average_rating\n",
       "656724                The Love-Murders of Harry F. Powers             5.0\n",
       "1218026  Blood Red Homicide (Pepper Bibeau Mysteries, #5)             5.0\n",
       "439348                                 REMAINS TO BE SEEN             5.0\n",
       "652611                 Porter's Rule: Masters of the City             5.0\n",
       "602779                                      Favourite Son             5.0"
      ]
     },
     "execution_count": 10,
     "metadata": {},
     "output_type": "execute_result"
    }
   ],
   "source": [
    "# Sorting the thriller genre books based on the average rating\n",
    "avg_rating_thriller = df_thriller[required_columns]\n",
    "sorted_thriller = avg_rating_thriller.sort_values(by=['average_rating'], ascending=False)\n",
    "sorted_thriller.head()"
   ]
  },
  {
   "cell_type": "code",
   "execution_count": 11,
   "metadata": {},
   "outputs": [],
   "source": [
    "sorted_thriller.head(20).to_csv(\"top_thriller.csv\")"
   ]
  },
  {
   "cell_type": "code",
   "execution_count": 12,
   "metadata": {},
   "outputs": [
    {
     "data": {
      "text/html": [
       "<div>\n",
       "<style scoped>\n",
       "    .dataframe tbody tr th:only-of-type {\n",
       "        vertical-align: middle;\n",
       "    }\n",
       "\n",
       "    .dataframe tbody tr th {\n",
       "        vertical-align: top;\n",
       "    }\n",
       "\n",
       "    .dataframe thead th {\n",
       "        text-align: right;\n",
       "    }\n",
       "</style>\n",
       "<table border=\"1\" class=\"dataframe\">\n",
       "  <thead>\n",
       "    <tr style=\"text-align: right;\">\n",
       "      <th></th>\n",
       "      <th>title</th>\n",
       "      <th>average_rating</th>\n",
       "    </tr>\n",
       "  </thead>\n",
       "  <tbody>\n",
       "    <tr>\n",
       "      <th>3088144</th>\n",
       "      <td>Tale of a Thief</td>\n",
       "      <td>5.0</td>\n",
       "    </tr>\n",
       "    <tr>\n",
       "      <th>2731685</th>\n",
       "      <td>Gondell's Quest</td>\n",
       "      <td>5.0</td>\n",
       "    </tr>\n",
       "    <tr>\n",
       "      <th>3205868</th>\n",
       "      <td>The Wisdom (The Wisdom, #2)</td>\n",
       "      <td>5.0</td>\n",
       "    </tr>\n",
       "    <tr>\n",
       "      <th>6735259</th>\n",
       "      <td>The Mystery of the Golden Button (The Maid Det...</td>\n",
       "      <td>5.0</td>\n",
       "    </tr>\n",
       "    <tr>\n",
       "      <th>3205869</th>\n",
       "      <td>The Wisdom (The Wisdom, #2)</td>\n",
       "      <td>5.0</td>\n",
       "    </tr>\n",
       "  </tbody>\n",
       "</table>\n",
       "</div>"
      ],
      "text/plain": [
       "                                                     title  average_rating\n",
       "3088144                                    Tale of a Thief             5.0\n",
       "2731685                                    Gondell's Quest             5.0\n",
       "3205868                        The Wisdom (The Wisdom, #2)             5.0\n",
       "6735259  The Mystery of the Golden Button (The Maid Det...             5.0\n",
       "3205869                        The Wisdom (The Wisdom, #2)             5.0"
      ]
     },
     "execution_count": 12,
     "metadata": {},
     "output_type": "execute_result"
    }
   ],
   "source": [
    "# Sorting the integrated data to give top 25 highly rated books\n",
    "\n",
    "avg_rating = df_integrated[['title', 'average_rating']]\n",
    "sorted_overall = avg_rating.sort_values(by=['average_rating'], ascending=False)\n",
    "\n",
    "sorted_overall.head()"
   ]
  },
  {
   "cell_type": "code",
   "execution_count": 13,
   "metadata": {},
   "outputs": [],
   "source": [
    "sorted_overall.head(25).to_csv(\"top_overall.csv\")"
   ]
  },
  {
   "cell_type": "markdown",
   "metadata": {},
   "source": [
    "**Solves the cold start problem for new user**\n",
    "\n",
    "We can recommend a new user who has no history of ratings, with the top rated books. If the user is specific about the genre, he/she can choose top rated book from each genre which is made available in csv files. Top rated books on an overall integrated dataset is also created."
   ]
  }
 ],
 "metadata": {
  "kernelspec": {
   "display_name": "Python 3",
   "language": "python",
   "name": "python3"
  },
  "language_info": {
   "codemirror_mode": {
    "name": "ipython",
    "version": 3
   },
   "file_extension": ".py",
   "mimetype": "text/x-python",
   "name": "python",
   "nbconvert_exporter": "python",
   "pygments_lexer": "ipython3",
   "version": "3.7.3"
  }
 },
 "nbformat": 4,
 "nbformat_minor": 2
}
