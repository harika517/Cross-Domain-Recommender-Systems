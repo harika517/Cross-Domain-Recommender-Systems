{
 "cells": [
  {
   "cell_type": "markdown",
   "metadata": {},
   "source": [
    "# Topic modeling on Movie_Plot Dataset"
   ]
  },
  {
   "cell_type": "markdown",
   "metadata": {},
   "source": [
    "Trying out the content based recommendation with respect to Plot summary for each movie. The basic idea is, as we have user profiles represnting their interest in genre, trying to recommend user the movies he would be interested in by applying topic modeling on the plot summary."
   ]
  },
  {
   "cell_type": "code",
   "execution_count": 1,
   "metadata": {},
   "outputs": [],
   "source": [
    "#Importing pandas library\n",
    "import pandas as pd"
   ]
  },
  {
   "cell_type": "code",
   "execution_count": 2,
   "metadata": {},
   "outputs": [],
   "source": [
    "#Loading dataset\n",
    "df = pd.read_csv(r\"C:\\Users\\sprad\\Desktop\\movie_plot.csv\")"
   ]
  },
  {
   "cell_type": "markdown",
   "metadata": {},
   "source": [
    "Data Exploration"
   ]
  },
  {
   "cell_type": "code",
   "execution_count": 3,
   "metadata": {},
   "outputs": [
    {
     "data": {
      "text/html": [
       "<div>\n",
       "<style scoped>\n",
       "    .dataframe tbody tr th:only-of-type {\n",
       "        vertical-align: middle;\n",
       "    }\n",
       "\n",
       "    .dataframe tbody tr th {\n",
       "        vertical-align: top;\n",
       "    }\n",
       "\n",
       "    .dataframe thead th {\n",
       "        text-align: right;\n",
       "    }\n",
       "</style>\n",
       "<table border=\"1\" class=\"dataframe\">\n",
       "  <thead>\n",
       "    <tr style=\"text-align: right;\">\n",
       "      <th></th>\n",
       "      <th>movie_id</th>\n",
       "      <th>movie title</th>\n",
       "      <th>date</th>\n",
       "      <th>movie runtime</th>\n",
       "      <th>Language</th>\n",
       "      <th>genre</th>\n",
       "      <th>plot</th>\n",
       "    </tr>\n",
       "  </thead>\n",
       "  <tbody>\n",
       "    <tr>\n",
       "      <th>0</th>\n",
       "      <td>9363483</td>\n",
       "      <td>White Of The Eye</td>\n",
       "      <td>1987</td>\n",
       "      <td>110.0</td>\n",
       "      <td>English</td>\n",
       "      <td>Thriller, Erotic thriller, Psychological thriller</td>\n",
       "      <td>A series of murders of rich young women throug...</td>\n",
       "    </tr>\n",
       "    <tr>\n",
       "      <th>1</th>\n",
       "      <td>261236</td>\n",
       "      <td>A Woman in Flames</td>\n",
       "      <td>1983</td>\n",
       "      <td>106.0</td>\n",
       "      <td>German</td>\n",
       "      <td>Drama</td>\n",
       "      <td>Eva, an upper class housewife, becomes frustra...</td>\n",
       "    </tr>\n",
       "    <tr>\n",
       "      <th>2</th>\n",
       "      <td>18998739</td>\n",
       "      <td>The Sorcerer's Apprentice</td>\n",
       "      <td>2002</td>\n",
       "      <td>86.0</td>\n",
       "      <td>English</td>\n",
       "      <td>Family Film, Fantasy, Adventure, World cinema</td>\n",
       "      <td>Every hundred years, the evil Morgana  returns...</td>\n",
       "    </tr>\n",
       "    <tr>\n",
       "      <th>3</th>\n",
       "      <td>6631279</td>\n",
       "      <td>Little city</td>\n",
       "      <td>4/4/1997</td>\n",
       "      <td>93.0</td>\n",
       "      <td>English</td>\n",
       "      <td>Romantic comedy, Ensemble Film, Comedy-drama, ...</td>\n",
       "      <td>Adam, a San Francisco-based artist who works a...</td>\n",
       "    </tr>\n",
       "    <tr>\n",
       "      <th>4</th>\n",
       "      <td>171005</td>\n",
       "      <td>Henry V</td>\n",
       "      <td>11/8/1989</td>\n",
       "      <td>137.0</td>\n",
       "      <td>English</td>\n",
       "      <td>Costume drama, War film, Epic, Period piece, D...</td>\n",
       "      <td>{{Plot|dateAct 1Act 2Act 3Act 4Act 5 Finally n...</td>\n",
       "    </tr>\n",
       "  </tbody>\n",
       "</table>\n",
       "</div>"
      ],
      "text/plain": [
       "   movie_id                movie title       date  movie runtime  Language  \\\n",
       "0   9363483           White Of The Eye       1987          110.0  English    \n",
       "1    261236          A Woman in Flames       1983          106.0   German    \n",
       "2  18998739  The Sorcerer's Apprentice       2002           86.0  English    \n",
       "3   6631279                Little city   4/4/1997           93.0  English    \n",
       "4    171005                    Henry V  11/8/1989          137.0  English    \n",
       "\n",
       "                                               genre  \\\n",
       "0  Thriller, Erotic thriller, Psychological thriller   \n",
       "1                                              Drama   \n",
       "2      Family Film, Fantasy, Adventure, World cinema   \n",
       "3  Romantic comedy, Ensemble Film, Comedy-drama, ...   \n",
       "4  Costume drama, War film, Epic, Period piece, D...   \n",
       "\n",
       "                                                plot  \n",
       "0  A series of murders of rich young women throug...  \n",
       "1  Eva, an upper class housewife, becomes frustra...  \n",
       "2  Every hundred years, the evil Morgana  returns...  \n",
       "3  Adam, a San Francisco-based artist who works a...  \n",
       "4  {{Plot|dateAct 1Act 2Act 3Act 4Act 5 Finally n...  "
      ]
     },
     "execution_count": 3,
     "metadata": {},
     "output_type": "execute_result"
    }
   ],
   "source": [
    "df.head()"
   ]
  },
  {
   "cell_type": "code",
   "execution_count": 4,
   "metadata": {},
   "outputs": [
    {
     "data": {
      "text/plain": [
       "(42203, 7)"
      ]
     },
     "execution_count": 4,
     "metadata": {},
     "output_type": "execute_result"
    }
   ],
   "source": [
    "df.shape"
   ]
  },
  {
   "cell_type": "code",
   "execution_count": 5,
   "metadata": {},
   "outputs": [
    {
     "data": {
      "text/plain": [
       "movie_id            0\n",
       "movie title         0\n",
       "date             2618\n",
       "movie runtime    6624\n",
       "Language         5264\n",
       "genre             411\n",
       "plot                0\n",
       "dtype: int64"
      ]
     },
     "execution_count": 5,
     "metadata": {},
     "output_type": "execute_result"
    }
   ],
   "source": [
    "df.isnull().sum()"
   ]
  },
  {
   "cell_type": "code",
   "execution_count": 6,
   "metadata": {},
   "outputs": [],
   "source": [
    "#Downloading the stopwords that can be removed from text and building corpus using nltk library\n",
    "from nltk.corpus import stopwords\n",
    "stop_words = stopwords.words('english')\n",
    "stop_words.extend(['from', 'subject', 're', 'edu', 'use'])"
   ]
  },
  {
   "cell_type": "code",
   "execution_count": 7,
   "metadata": {},
   "outputs": [],
   "source": [
    "#importing libraries for visualization of words based on how frequent they are\n",
    "from PIL import Image\n",
    "from wordcloud import WordCloud, STOPWORDS, ImageColorGenerator"
   ]
  },
  {
   "cell_type": "code",
   "execution_count": 8,
   "metadata": {},
   "outputs": [
    {
     "name": "stderr",
     "output_type": "stream",
     "text": [
      "UsageError: Line magic function `%` not found.\n"
     ]
    }
   ],
   "source": [
    "#importing matplot for visualization\n",
    "import matplotlib.pyplot as plt\n",
    "% matplotlib inline"
   ]
  },
  {
   "cell_type": "code",
   "execution_count": 9,
   "metadata": {},
   "outputs": [
    {
     "data": {
      "text/html": [
       "<div>\n",
       "<style scoped>\n",
       "    .dataframe tbody tr th:only-of-type {\n",
       "        vertical-align: middle;\n",
       "    }\n",
       "\n",
       "    .dataframe tbody tr th {\n",
       "        vertical-align: top;\n",
       "    }\n",
       "\n",
       "    .dataframe thead th {\n",
       "        text-align: right;\n",
       "    }\n",
       "</style>\n",
       "<table border=\"1\" class=\"dataframe\">\n",
       "  <thead>\n",
       "    <tr style=\"text-align: right;\">\n",
       "      <th></th>\n",
       "      <th>movie_id</th>\n",
       "      <th>movie title</th>\n",
       "      <th>date</th>\n",
       "      <th>movie runtime</th>\n",
       "      <th>Language</th>\n",
       "      <th>genre</th>\n",
       "      <th>plot</th>\n",
       "    </tr>\n",
       "  </thead>\n",
       "  <tbody>\n",
       "    <tr>\n",
       "      <th>0</th>\n",
       "      <td>9363483</td>\n",
       "      <td>White Of The Eye</td>\n",
       "      <td>1987</td>\n",
       "      <td>110.0</td>\n",
       "      <td>English</td>\n",
       "      <td>Thriller, Erotic thriller, Psychological thriller</td>\n",
       "      <td>A series of murders of rich young women throug...</td>\n",
       "    </tr>\n",
       "    <tr>\n",
       "      <th>1</th>\n",
       "      <td>261236</td>\n",
       "      <td>A Woman in Flames</td>\n",
       "      <td>1983</td>\n",
       "      <td>106.0</td>\n",
       "      <td>German</td>\n",
       "      <td>Drama</td>\n",
       "      <td>Eva, an upper class housewife, becomes frustra...</td>\n",
       "    </tr>\n",
       "    <tr>\n",
       "      <th>2</th>\n",
       "      <td>18998739</td>\n",
       "      <td>The Sorcerer's Apprentice</td>\n",
       "      <td>2002</td>\n",
       "      <td>86.0</td>\n",
       "      <td>English</td>\n",
       "      <td>Family Film, Fantasy, Adventure, World cinema</td>\n",
       "      <td>Every hundred years, the evil Morgana  returns...</td>\n",
       "    </tr>\n",
       "    <tr>\n",
       "      <th>3</th>\n",
       "      <td>6631279</td>\n",
       "      <td>Little city</td>\n",
       "      <td>4/4/1997</td>\n",
       "      <td>93.0</td>\n",
       "      <td>English</td>\n",
       "      <td>Romantic comedy, Ensemble Film, Comedy-drama, ...</td>\n",
       "      <td>Adam, a San Francisco-based artist who works a...</td>\n",
       "    </tr>\n",
       "    <tr>\n",
       "      <th>4</th>\n",
       "      <td>171005</td>\n",
       "      <td>Henry V</td>\n",
       "      <td>11/8/1989</td>\n",
       "      <td>137.0</td>\n",
       "      <td>English</td>\n",
       "      <td>Costume drama, War film, Epic, Period piece, D...</td>\n",
       "      <td>{{Plot|dateAct 1Act 2Act 3Act 4Act 5 Finally n...</td>\n",
       "    </tr>\n",
       "  </tbody>\n",
       "</table>\n",
       "</div>"
      ],
      "text/plain": [
       "   movie_id                movie title       date  movie runtime  Language  \\\n",
       "0   9363483           White Of The Eye       1987          110.0  English    \n",
       "1    261236          A Woman in Flames       1983          106.0   German    \n",
       "2  18998739  The Sorcerer's Apprentice       2002           86.0  English    \n",
       "3   6631279                Little city   4/4/1997           93.0  English    \n",
       "4    171005                    Henry V  11/8/1989          137.0  English    \n",
       "\n",
       "                                               genre  \\\n",
       "0  Thriller, Erotic thriller, Psychological thriller   \n",
       "1                                              Drama   \n",
       "2      Family Film, Fantasy, Adventure, World cinema   \n",
       "3  Romantic comedy, Ensemble Film, Comedy-drama, ...   \n",
       "4  Costume drama, War film, Epic, Period piece, D...   \n",
       "\n",
       "                                                plot  \n",
       "0  A series of murders of rich young women throug...  \n",
       "1  Eva, an upper class housewife, becomes frustra...  \n",
       "2  Every hundred years, the evil Morgana  returns...  \n",
       "3  Adam, a San Francisco-based artist who works a...  \n",
       "4  {{Plot|dateAct 1Act 2Act 3Act 4Act 5 Finally n...  "
      ]
     },
     "execution_count": 9,
     "metadata": {},
     "output_type": "execute_result"
    }
   ],
   "source": [
    "df.head()"
   ]
  },
  {
   "cell_type": "code",
   "execution_count": 13,
   "metadata": {},
   "outputs": [],
   "source": [
    "#Visualising freqency of words using wordcloud for the second plot sumary\n",
    "text = df['plot'][1]"
   ]
  },
  {
   "cell_type": "code",
   "execution_count": 14,
   "metadata": {},
   "outputs": [],
   "source": [
    "wordcloud = WordCloud(stopwords=stop_words, background_color=\"white\").generate(text)\n"
   ]
  },
  {
   "cell_type": "code",
   "execution_count": 15,
   "metadata": {},
   "outputs": [
    {
     "data": {
      "image/png": "[encoded data removed]",
      "text/plain": [
       "<Figure size 432x288 with 1 Axes>"
      ]
     },
     "metadata": {
      "needs_background": "light"
     },
     "output_type": "display_data"
    }
   ],
   "source": [
    "plt.imshow(wordcloud, interpolation='bilinear')\n",
    "plt.axis(\"off\")\n",
    "plt.show()"
   ]
  },
  {
   "cell_type": "markdown",
   "metadata": {},
   "source": [
    "From the figure above we can see that Eva, man , scene, romantic, money, slowly etc are most frequenlty used so we can get some idea that this movie belongs to some drama wthout actually seeing the genre"
   ]
  },
  {
   "cell_type": "code",
   "execution_count": 30,
   "metadata": {},
   "outputs": [],
   "source": [
    "import re\n",
    "import numpy as np\n",
    "import pandas as pd\n",
    "from pprint import pprint"
   ]
  },
  {
   "cell_type": "code",
   "execution_count": 17,
   "metadata": {},
   "outputs": [],
   "source": [
    "#Applying Topic modeling using gensim library\n",
    "import gensim\n",
    "import gensim.corpora as corpora\n",
    "from gensim.utils import simple_preprocess\n",
    "from gensim.models import CoherenceModel, LdaModel, LsiModel, HdpModel"
   ]
  },
  {
   "cell_type": "code",
   "execution_count": 18,
   "metadata": {},
   "outputs": [],
   "source": [
    "import spacy"
   ]
  },
  {
   "cell_type": "code",
   "execution_count": 19,
   "metadata": {},
   "outputs": [],
   "source": [
    "import pyLDAvis\n",
    "import pyLDAvis.gensim \n",
    "import matplotlib.pyplot as plt\n",
    "%matplotlib inline"
   ]
  },
  {
   "cell_type": "code",
   "execution_count": 20,
   "metadata": {},
   "outputs": [],
   "source": [
    "import logging\n",
    "logging.basicConfig(format='%(asctime)s : %(levelname)s : %(message)s', level=logging.ERROR)"
   ]
  },
  {
   "cell_type": "code",
   "execution_count": 21,
   "metadata": {},
   "outputs": [],
   "source": [
    "import warnings\n",
    "warnings.filterwarnings(\"ignore\",category=DeprecationWarning)"
   ]
  },
  {
   "cell_type": "code",
   "execution_count": 22,
   "metadata": {},
   "outputs": [],
   "source": [
    "#Define more stopwords\n",
    "from nltk.corpus import stopwords\n",
    "stop_words = stopwords.words('english')\n",
    "stop_words.extend(['from', 'subject', 're', 'edu', 'use','a','about', 'above', 'across'])"
   ]
  },
  {
   "cell_type": "code",
   "execution_count": 23,
   "metadata": {},
   "outputs": [],
   "source": [
    "    st1= ['after', 'afterwards','again','against', 'all', 'almost','alone','along',\n",
    "           'already',\n",
    "           'also',\n",
    "           'although',\n",
    "           'always',\n",
    "           'am',\n",
    "           'among',\n",
    "           'amongst',\n",
    "           'amoungst',\n",
    "           'amount',\n",
    "           'an',\n",
    "           'and',\n",
    "           'another',\n",
    "           'any',\n",
    "           'anyhow',\n",
    "           'anyone',\n",
    "           'anything',\n",
    "           'anyway',\n",
    "           'anywhere',\n",
    "           'are',\n",
    "           'around',\n",
    "           'as',\n",
    "           'at',\n",
    "           'back',\n",
    "           'be',\n",
    "           'became',\n",
    "           'because',\n",
    "           'become',\n",
    "           'becomes',\n",
    "           'becoming',\n",
    "           'been',\n",
    "           'before',\n",
    "           'beforehand',\n",
    "           'behind',\n",
    "           'being',\n",
    "           'below',\n",
    "           'beside',\n",
    "           'besides',\n",
    "           'between',\n",
    "           'beyond',\n",
    "           'bill',\n",
    "           'both',\n",
    "           'bottom',\n",
    "           'but',\n",
    "           'by',\n",
    "           'call',\n",
    "           'can',\n",
    "           'cannot',\n",
    "           'cant',\n",
    "           'co',\n",
    "           'con',\n",
    "           'could',\n",
    "           'couldnt',\n",
    "           'cry',\n",
    "           'de',\n",
    "           'describe',\n",
    "           'detail',\n",
    "           'do',\n",
    "           'done',\n",
    "           'down',\n",
    "           'due',\n",
    "           'during',\n",
    "           'each',\n",
    "           'eg',\n",
    "           'eight',\n",
    "           'either',\n",
    "           'eleven',\n",
    "           'else',\n",
    "           'elsewhere',\n",
    "           'empty',\n",
    "           'enough',\n",
    "           'etc',\n",
    "           'even',\n",
    "           'ever',\n",
    "           'every',\n",
    "           'everyone',\n",
    "           'everything',\n",
    "           'everywhere',\n",
    "           'except',\n",
    "           'few',\n",
    "           'fifteen',\n",
    "           'fifty',\n",
    "           'fill',\n",
    "           'find',\n",
    "           'fire',\n",
    "           'first',\n",
    "           'five',\n",
    "           'for',\n",
    "           'former',\n",
    "           'formerly',\n",
    "           'forty',\n",
    "           'found',\n",
    "           'four',\n",
    "           'from',\n",
    "           'front',\n",
    "           'full',\n",
    "           'further',\n",
    "           'get',\n",
    "           'give',\n",
    "           'go',\n",
    "           'had',\n",
    "           'has',\n",
    "           'hasnt',\n",
    "           'have',\n",
    "           'he',\n",
    "           'hence',\n",
    "           'her',\n",
    "           'here',\n",
    "           'hereafter',\n",
    "           'hereby',\n",
    "           'herein',\n",
    "           'hereupon',\n",
    "           'hers',\n",
    "           'herself',\n",
    "           'him',\n",
    "           'himself',\n",
    "           'his',\n",
    "           'how',\n",
    "           'however',\n",
    "           'hundred',\n",
    "           'i',\n",
    "           'ie',\n",
    "           'if',\n",
    "           'in',\n",
    "           'inc',\n",
    "           'indeed',\n",
    "           'interest',\n",
    "           'into',\n",
    "           'is',\n",
    "           'it',\n",
    "           'its',\n",
    "           'itself',\n",
    "           'keep',\n",
    "           'last',\n",
    "           'latter',\n",
    "           'latterly',\n",
    "           'least',\n",
    "           'less',\n",
    "           'ltd',\n",
    "           'made',\n",
    "           'many',\n",
    "           'may',\n",
    "           'me',\n",
    "           'meanwhile',\n",
    "           'might',\n",
    "           'mill',\n",
    "           'mine',\n",
    "           'more',\n",
    "           'moreover',\n",
    "           'most',\n",
    "           'mostly',\n",
    "           'move',\n",
    "           'much',\n",
    "           'must',\n",
    "           'my',\n",
    "           'myself',\n",
    "           'name',\n",
    "           'namely',\n",
    "           'neither',\n",
    "           'never',\n",
    "           'nevertheless',\n",
    "           'next',\n",
    "           'nine',\n",
    "           'no',\n",
    "           'nobody',\n",
    "           'none',\n",
    "           'noone',\n",
    "           'nor',\n",
    "           'not',\n",
    "           'nothing',\n",
    "           'now',\n",
    "           'nowhere',\n",
    "           'of',\n",
    "           'off',\n",
    "           'often',\n",
    "           'on',\n",
    "           'once',\n",
    "           'one',\n",
    "           'only',\n",
    "           'onto',\n",
    "           'or',\n",
    "           'other',\n",
    "           'others',\n",
    "           'otherwise',\n",
    "           'our',\n",
    "           'ours',\n",
    "           'ourselves',\n",
    "           'out',\n",
    "           'over',\n",
    "           'own',\n",
    "           'part',\n",
    "           'per',\n",
    "           'perhaps',\n",
    "           'please',\n",
    "           'put',\n",
    "           'rather',\n",
    "           're',\n",
    "           'same',\n",
    "           'see',\n",
    "           'seem',\n",
    "           'seemed',\n",
    "           'seeming',\n",
    "           'seems',\n",
    "           'serious',\n",
    "           'several',\n",
    "           'she',\n",
    "           'should',\n",
    "           'show',\n",
    "           'side',\n",
    "           'since',\n",
    "           'sincere',\n",
    "           'six',\n",
    "           'sixty',\n",
    "           'so',\n",
    "           'some',\n",
    "           'somehow',\n",
    "           'someone',\n",
    "           'something',\n",
    "           'sometime',\n",
    "           'sometimes',\n",
    "           'somewhere',\n",
    "           'still',\n",
    "           'such',\n",
    "           'system',\n",
    "           'take',\n",
    "           'ten',\n",
    "           'than',\n",
    "           'that',\n",
    "           'the',\n",
    "           'their',\n",
    "           'them',\n",
    "           'themselves',\n",
    "           'then',\n",
    "           'thence',\n",
    "           'there',\n",
    "           'thereafter',\n",
    "           'thereby',\n",
    "           'therefore',\n",
    "           'therein',\n",
    "           'thereupon',\n",
    "           'these',\n",
    "           'they',\n",
    "           'thick',\n",
    "           'thin',\n",
    "           'third',\n",
    "           'this',\n",
    "           'those',\n",
    "           'though',\n",
    "           'three',\n",
    "           'through',\n",
    "           'throughout',\n",
    "           'thru',\n",
    "           'thus',\n",
    "           'to',\n",
    "           'together',\n",
    "           'too',\n",
    "           'top',\n",
    "           'toward',\n",
    "           'towards',\n",
    "           'twelve',\n",
    "           'twenty',\n",
    "           'two',\n",
    "           'un',\n",
    "           'under',\n",
    "           'until',\n",
    "           'up',\n",
    "           'upon',\n",
    "           'us',\n",
    "           'very',\n",
    "           'via',\n",
    "           'was',\n",
    "           'we',\n",
    "           'well',\n",
    "           'were',\n",
    "           'what',\n",
    "           'whatever',\n",
    "           'when',\n",
    "           'whence',\n",
    "           'whenever',\n",
    "           'where',\n",
    "           'whereafter',\n",
    "           'whereas',\n",
    "           'whereby',\n",
    "           'wherein',\n",
    "           'whereupon',\n",
    "           'wherever',\n",
    "           'whether',\n",
    "           'which',\n",
    "           'while',\n",
    "           'whither',\n",
    "           'who',\n",
    "           'whoever',\n",
    "           'whole',\n",
    "           'whom',\n",
    "           'whose',\n",
    "           'why',\n",
    "           'will',\n",
    "           'with',\n",
    "           'within',\n",
    "           'without',\n",
    "           'would',\n",
    "           'yet',\n",
    "           'you',\n",
    "           'your',\n",
    "           'yours',\n",
    "           'yourself',\n",
    "           'yourselves']"
   ]
  },
  {
   "cell_type": "code",
   "execution_count": 24,
   "metadata": {},
   "outputs": [],
   "source": [
    "stop_words.extend(st1)"
   ]
  },
  {
   "cell_type": "code",
   "execution_count": 25,
   "metadata": {},
   "outputs": [],
   "source": [
    "#Applying coun vectorizer to get the count of words from plot summary of all the movies except for the stopwords which is ignored during theprocess\n",
    "from sklearn.feature_extraction.text import CountVectorizer\n",
    "count = CountVectorizer(stop_words, max_df=.1, max_features=5000)\n",
    "X = count.fit_transform(df['plot'].values)"
   ]
  },
  {
   "cell_type": "code",
   "execution_count": 26,
   "metadata": {},
   "outputs": [
    {
     "name": "stdout",
     "output_type": "stream",
     "text": [
      "  (0, 3977)\t1\n",
      "  (0, 2955)\t2\n",
      "  (0, 3755)\t1\n",
      "  (0, 4938)\t2\n",
      "  (0, 4528)\t1\n",
      "  (0, 269)\t1\n",
      "  (0, 419)\t1\n",
      "  (0, 3976)\t1\n",
      "  (0, 2483)\t1\n",
      "  (0, 883)\t1\n",
      "  (0, 2563)\t1\n",
      "  (0, 1247)\t2\n",
      "  (0, 779)\t1\n",
      "  (0, 4794)\t1\n",
      "  (0, 3222)\t20\n",
      "  (0, 4892)\t2\n",
      "  (0, 4174)\t3\n",
      "  (0, 1609)\t1\n",
      "  (0, 4861)\t1\n",
      "  (0, 2138)\t1\n",
      "  (0, 4189)\t1\n",
      "  (0, 4423)\t1\n",
      "  (0, 3046)\t1\n",
      "  (0, 139)\t1\n",
      "  (0, 4065)\t1\n",
      "  :\t:\n",
      "  (42202, 4158)\t1\n",
      "  (42202, 656)\t1\n",
      "  (42202, 3062)\t1\n",
      "  (42202, 1238)\t1\n",
      "  (42202, 4887)\t1\n",
      "  (42202, 4849)\t1\n",
      "  (42202, 4924)\t2\n",
      "  (42202, 331)\t1\n",
      "  (42202, 1786)\t1\n",
      "  (42202, 3409)\t1\n",
      "  (42202, 50)\t1\n",
      "  (42202, 2942)\t2\n",
      "  (42202, 3724)\t1\n",
      "  (42202, 4456)\t1\n",
      "  (42202, 774)\t1\n",
      "  (42202, 1274)\t1\n",
      "  (42202, 2121)\t1\n",
      "  (42202, 2154)\t2\n",
      "  (42202, 4690)\t1\n",
      "  (42202, 2172)\t1\n",
      "  (42202, 1122)\t1\n",
      "  (42202, 4847)\t1\n",
      "  (42202, 168)\t1\n",
      "  (42202, 377)\t1\n",
      "  (42202, 1852)\t2\n"
     ]
    }
   ],
   "source": [
    "print(X)"
   ]
  },
  {
   "cell_type": "code",
   "execution_count": 27,
   "metadata": {},
   "outputs": [],
   "source": [
    "#Applying LDA as part of Topic modeling forming 10 topics from the corpus\n",
    "from sklearn.decomposition import LatentDirichletAllocation\n",
    "lda = LatentDirichletAllocation(n_components=10,random_state=123) #, learning_method=’online’)\n",
    "X_topics = lda.fit_transform(X)"
   ]
  },
  {
   "cell_type": "code",
   "execution_count": 28,
   "metadata": {},
   "outputs": [
    {
     "data": {
      "text/plain": [
       "(10, 5000)"
      ]
     },
     "execution_count": 28,
     "metadata": {},
     "output_type": "execute_result"
    }
   ],
   "source": [
    "lda.components_.shape"
   ]
  },
  {
   "cell_type": "code",
   "execution_count": 29,
   "metadata": {},
   "outputs": [
    {
     "name": "stdout",
     "output_type": "stream",
     "text": [
      "Topic 1:\n",
      "joe team game alex ben\n",
      "Topic 2:\n",
      "tom jerry dog bugs cat\n",
      "Topic 3:\n",
      "john king prince eddie show\n",
      "Topic 4:\n",
      "max prison gang tony kills\n",
      "Topic 5:\n",
      "mary mike nick bank ray\n",
      "Topic 6:\n",
      "david harry michael sam jimmy\n",
      "Topic 7:\n",
      "jack parents marriage marry baby\n",
      "Topic 8:\n",
      "war village american women many\n",
      "Topic 9:\n",
      "dr charlie peter body frank\n",
      "Topic 10:\n",
      "ship war army captain attack\n"
     ]
    }
   ],
   "source": [
    "#Printing the top 5 wordsfrom each topic\n",
    "n_top_words = 5\n",
    "feature_names = count.get_feature_names()\n",
    "for topic_idx, topic in enumerate(lda.components_):\n",
    "    print(\"Topic %d:\" % (topic_idx + 1))\n",
    "    print(\" \".join([feature_names[i]\n",
    "    for i in topic.argsort()                 [:-n_top_words - 1:-1]]))"
   ]
  },
  {
   "cell_type": "markdown",
   "metadata": {},
   "source": [
    "Ref: https://www.kaggle.com/akashram/topic-modeling-intro-implementation"
   ]
  },
  {
   "cell_type": "markdown",
   "metadata": {},
   "source": [
    "Ref : https://towardsdatascience.com/unsupervised-sentiment-analysis-a38bf1906483"
   ]
  },
  {
   "cell_type": "markdown",
   "metadata": {},
   "source": [
    "Ref : https://www.machinelearningplus.com/nlp/topic-modeling-visualization-how-to-present-results-lda-models/"
   ]
  },
  {
   "cell_type": "markdown",
   "metadata": {},
   "source": [
    "Challenge:\n",
    "I am not able to proceed further on how to match these topics with thegenres and use them to recommend movies for any user"
   ]
  },
  {
   "cell_type": "code",
   "execution_count": null,
   "metadata": {},
   "outputs": [],
   "source": []
  }
 ],
 "metadata": {
  "kernelspec": {
   "display_name": "Python 2",
   "language": "python",
   "name": "python2"
  },
  "language_info": {
   "codemirror_mode": {
    "name": "ipython",
    "version": 2
   },
   "file_extension": ".py",
   "mimetype": "text/x-python",
   "name": "python",
   "nbconvert_exporter": "python",
   "pygments_lexer": "ipython2",
   "version": "2.7.16"
  }
 },
 "nbformat": 4,
 "nbformat_minor": 4
}
